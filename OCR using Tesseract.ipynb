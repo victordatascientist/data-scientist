{
 "cells": [
  {
   "cell_type": "code",
   "execution_count": 1,
   "metadata": {},
   "outputs": [
    {
     "name": "stdout",
     "output_type": "stream",
     "text": [
      "Collecting pytesseract\n",
      "  Downloading pytesseract-0.3.7.tar.gz (13 kB)\n",
      "Requirement already satisfied: Pillow in c:\\programdata\\anaconda3\\lib\\site-packages (from pytesseract) (7.0.0)\n",
      "Building wheels for collected packages: pytesseract\n",
      "  Building wheel for pytesseract (setup.py): started\n",
      "  Building wheel for pytesseract (setup.py): finished with status 'done'\n",
      "  Created wheel for pytesseract: filename=pytesseract-0.3.7-py2.py3-none-any.whl size=13947 sha256=7a1d0ab1c468a167bac75dada19d763380078f7ebc8aeb4c07e92f72da0e9908\n",
      "  Stored in directory: c:\\users\\admin\\appdata\\local\\pip\\cache\\wheels\\67\\71\\6c\\7a8c5ca2e699752506999ae7baeb692e2b4fc6488c2cddcb22\n",
      "Successfully built pytesseract\n",
      "Installing collected packages: pytesseract\n",
      "Successfully installed pytesseract-0.3.7\n",
      "Note: you may need to restart the kernel to use updated packages.\n"
     ]
    }
   ],
   "source": [
    "pip install pytesseract"
   ]
  },
  {
   "cell_type": "code",
   "execution_count": 1,
   "metadata": {},
   "outputs": [],
   "source": [
    "#load the library\n",
    "import cv2\n",
    "import numpy as np\n",
    "import pytesseract\n",
    "\n",
    "pytesseract.pytesseract.tesseract_cmd = r\"C:\\Program Files\\Tesseract-OCR\\tesseract.exe\""
   ]
  },
  {
   "cell_type": "code",
   "execution_count": 2,
   "metadata": {},
   "outputs": [
    {
     "name": "stdout",
     "output_type": "stream",
     "text": [
      "CONNECT CONNECT INDIA E-COMMERCE SERVICES PRIVATE LTD __ INVOICE No. 0067570029\n",
      "INDIA SHOP NO1, 328, TILAK MARG,NEAR GYAN MANDIR COLLEGE |ReFERENCE No. ICIMP0401021715\n",
      "NEEM NEEMUCH, Madhya Pradesh POSTAL CODE: 458441\n",
      "\n",
      "Distribution Revolution STATE CODE: 23, TELEPHONE #: 0009826907282 Sait, OE\n",
      "\n",
      "INV DATE: 18/01/2021 PREPAREDBY |  — GulabMishra —_—s |Contact Number [8828142988\n",
      "\n",
      "TAX INVOICE\n",
      "Santosh Ratanlala Verma, 168 DUPLICATE FOR TRANSPORTER SHIP Santosh Ratanlala Verma, 168 Bawliya\n",
      "TO Bawliya Khurd Nemawar Road PLACE OF SUPPLY 223 To Khurd Nemawar Road Indore,\n",
      "Indore, 6263576306. Madhya Pradesh 6263576306.\n",
      "ITEM |ITEM DESCRIPTION : SGST(R|CGST(|CESS |TOTAL\n",
      "NO TAXABLE |TAXABLE |S. RS. RS.) |(Rs.)\n",
      "\n",
      "HSN SGST(_|CGST(|CESS\n",
      "CODE %) %) — 1(%)\n",
      "\n",
      "26695|BULK SUGAR SS GRADE 50 1643.80] 1643.80] 41.1] 41.1] 0.00) :\n",
      "1701|kg 2.50%] 2.50%] 0.00%\n",
      "Freight Allocation 11.42 0.29] 0.29} 0.00 !\n",
      "\n",
      ", 8.10| 1742.86| 43.57] 43.57] 0.00\n",
      "7.42\n",
      "\n",
      "2.50%] 2.50%] 0.00%\n",
      "Freight Allocation 0.19} 0.19} 0.00\n",
      "\n",
      "MAGGI NOODLES MASALA 70 116.68) 7|~7{ 0.00\n",
      "1.08\n",
      "\n",
      "19029 6.00%] 6.00%] 0.00%\n",
      "Freight Allocation 1 Tier Price 0.06} 0.06} 0.00\n",
      "\n",
      "11915]GHADI DETERGENT : ; 123.62| 11.12] 11.12] 0.00]\n",
      "\n",
      "3402] POWDER 500 g 9.00%] 9.00%] 0.00%\n",
      "\n",
      "Freight Allocation 2 Tier Price 0.76 0.07| 0.07} 0.00\n",
      "\n",
      "11911]GHADI DETERGENT BAR 190 ; : : : 434.74] 39.13] 39.13] 0.00]\n",
      "5.08\n",
      "\n",
      "3401]g 9.00%] 9.00%] 0.00%\n",
      "Freight Allocation 2 Tier Price 0.46} 0.46} 0.00\n",
      "\n",
      "3401|4UX63\n",
      "\n",
      "10602|GODREJ Not SANDAL SOAP 176.60| _15.89| 15.89| 0.00\n",
      "0.56\n",
      "\n",
      "9.00%] 9.00%] 0.00%\n",
      "0.05} 0.05} 0.00 0.66\n",
      "\n",
      "Prora—SSCSCSid Si i i if 26158 92] 158 92] 0.00] 582.28\n",
      "\n",
      "a I ac hs Me]\n",
      "\n",
      "GST Summa Door Delivery Summa GST Summary - Delivery Charges\n",
      "\n",
      "SGST |SGST |CGST |CGST Dooer Delivery Charge |Amoun | Taxable | SG CGST Amount\n",
      "% Amt |% Amt Charges % It Amt | ST SGST CCST\n",
      "(RS.) (RS.) Rs | %| Amount) %\n",
      "0, 0, 0, 0,\n",
      "3,405.50 ]2.50% }85.15 | 2.50%|85.15 Delivery Charges 1.50% 100.00 100.00 900) SH) 80M\n",
      "\n",
      "0, 9\n",
      "\n",
      "we pe ree pe Pe [pest 1 900\n",
      "0, 9\n",
      "\n",
      "741.36 [9.00% [66.72 [9.00% [66.72 |. ..7 9% } 9.00\n",
      "\n",
      "| Total | fis8.92]  fis8.92 [Total 118.00) Total 9-00) 9.00)\n",
      "\n",
      "CESS Summary otal Summary otal in Words\n",
      "\n",
      "Taxable CESS Four Thousand seven Hundred Rs and forty\n",
      "Amt.(RS.) a CESS Amt(RS.) | purchase Total 4582.48 eight Paise Only\n",
      "\n",
      "%\n",
      "F «id; 000% ———~=«.OO| Delivery Total | 118.00 _|Authorised Signatory\n",
      "for Connect India E-\n",
      "Pvt Ltd\n",
      "The Goods purchased from Connect India E-Commerce Private Limited are to be used for Business to Business / Resale and\n",
      "not to be used for personal consumption\n",
      "\n",
      " \n",
      "\f",
      "\n"
     ]
    }
   ],
   "source": [
    "#load the image(page1)\n",
    "img = cv2.imread(r\"C:\\Users\\admin\\Downloads\\0001.jpg\")\n",
    "text = pytesseract.image_to_string(img)\n",
    "print(text)"
   ]
  },
  {
   "cell_type": "code",
   "execution_count": null,
   "metadata": {},
   "outputs": [],
   "source": []
  },
  {
   "cell_type": "code",
   "execution_count": null,
   "metadata": {},
   "outputs": [],
   "source": []
  }
 ],
 "metadata": {
  "kernelspec": {
   "display_name": "Python 3",
   "language": "python",
   "name": "python3"
  },
  "language_info": {
   "codemirror_mode": {
    "name": "ipython",
    "version": 3
   },
   "file_extension": ".py",
   "mimetype": "text/x-python",
   "name": "python",
   "nbconvert_exporter": "python",
   "pygments_lexer": "ipython3",
   "version": "3.7.6"
  }
 },
 "nbformat": 4,
 "nbformat_minor": 4
}
