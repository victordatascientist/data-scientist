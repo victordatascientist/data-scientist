{
 "cells": [
  {
   "cell_type": "code",
   "execution_count": 1,
   "metadata": {},
   "outputs": [
    {
     "name": "stdout",
     "output_type": "stream",
     "text": [
      "Collecting pytube3\n",
      "  Downloading pytube3-9.6.4-py3-none-any.whl (38 kB)\n",
      "Collecting typing-extensions\n",
      "  Downloading typing_extensions-3.7.4.3-py3-none-any.whl (22 kB)\n",
      "Installing collected packages: typing-extensions, pytube3\n",
      "Successfully installed pytube3-9.6.4 typing-extensions-3.7.4.3\n",
      "Note: you may need to restart the kernel to use updated packages.\n"
     ]
    }
   ],
   "source": [
    "pip install pytube3"
   ]
  },
  {
   "cell_type": "code",
   "execution_count": 1,
   "metadata": {},
   "outputs": [],
   "source": [
    "from pytube import YouTube"
   ]
  },
  {
   "cell_type": "code",
   "execution_count": 2,
   "metadata": {},
   "outputs": [
    {
     "name": "stdout",
     "output_type": "stream",
     "text": [
      "Enter Link of Youtube Video: https://youtu.be/GpUcjX0wXpc\n"
     ]
    }
   ],
   "source": [
    "link = input(\"Enter Link of Youtube Video: \")\n",
    "yt = YouTube(link)"
   ]
  },
  {
   "cell_type": "code",
   "execution_count": 3,
   "metadata": {},
   "outputs": [
    {
     "name": "stdout",
     "output_type": "stream",
     "text": [
      "Title : Jingle Bell | Hommie Dilliwala Ft. Yo Yo Honey Singh I Dance 2021\n",
      "Views : 50\n",
      "Duration : 192\n",
      "Description : Hey guys this is my first upload of 2021.\n",
      "\n",
      "Like, Comment, Share & Subscribe to my channel for more such contents.\n",
      "\n",
      "#YoYoHoneySingh Christmas Gift #JingleBell\n",
      "\n",
      "Dance performed by : Siddharth Griyaghey\n",
      "\n",
      "Instagram- @sidd_gr1727\n",
      "\n",
      "Song: Jingle Bell\n",
      "Singers : Hommie Dilliwala Feat. Yo Yo Honey Singh \n",
      "Music Produced By : Yo Yo Honey Singh\n",
      "Ratings : 5.0\n"
     ]
    }
   ],
   "source": [
    "# To print title\n",
    "print(\"Title :\", yt.title)\n",
    "# To get number of views\n",
    "print(\"Views :\", yt.views)\n",
    "# To get the length of video\n",
    "print(\"Duration :\", yt.length)\n",
    "# To get description\n",
    "print(\"Description :\", yt.description)\n",
    "# To get ratings\n",
    "print(\"Ratings :\", yt.rating)"
   ]
  },
  {
   "cell_type": "code",
   "execution_count": null,
   "metadata": {},
   "outputs": [],
   "source": []
  }
 ],
 "metadata": {
  "kernelspec": {
   "display_name": "Python 3",
   "language": "python",
   "name": "python3"
  },
  "language_info": {
   "codemirror_mode": {
    "name": "ipython",
    "version": 3
   },
   "file_extension": ".py",
   "mimetype": "text/x-python",
   "name": "python",
   "nbconvert_exporter": "python",
   "pygments_lexer": "ipython3",
   "version": "3.7.6"
  }
 },
 "nbformat": 4,
 "nbformat_minor": 4
}
