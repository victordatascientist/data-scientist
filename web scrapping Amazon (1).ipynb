{
 "cells": [
  {
   "cell_type": "markdown",
   "metadata": {},
   "source": [
    "# load library"
   ]
  },
  {
   "cell_type": "code",
   "execution_count": 21,
   "metadata": {},
   "outputs": [],
   "source": [
    "#loading library and link\n",
    "from selenium import webdriver\n",
    "from selenium.webdriver.common.keys import Keys\n",
    "driver = webdriver.Chrome(r\"C:\\Users\\Public\\Documents\\chromedriver.exe\")\n",
    "driver.get('https://www.amazon.in')"
   ]
  },
  {
   "cell_type": "markdown",
   "metadata": {},
   "source": [
    "# login details"
   ]
  },
  {
   "cell_type": "code",
   "execution_count": 22,
   "metadata": {},
   "outputs": [],
   "source": [
    "#give the login details\n",
    "login= driver.find_element_by_id('nav-link-accountList')\n",
    "login.click()"
   ]
  },
  {
   "cell_type": "code",
   "execution_count": 23,
   "metadata": {},
   "outputs": [],
   "source": [
    "#give your email\n",
    "email= driver.find_element_by_id('ap_email')\n",
    "email.send_keys('vikramvictor222@gmail.com')\n",
    "email.send_keys(Keys.RETURN)"
   ]
  },
  {
   "cell_type": "code",
   "execution_count": 24,
   "metadata": {},
   "outputs": [],
   "source": [
    "#give your password\n",
    "pwd= driver.find_element_by_id('ap_password')\n",
    "pwd.send_keys('xxxxxxxxxxxxx')\n",
    "pwd.send_keys(Keys.RETURN)"
   ]
  },
  {
   "cell_type": "markdown",
   "metadata": {},
   "source": [
    "# Extract the order summary from Amazon"
   ]
  },
  {
   "cell_type": "markdown",
   "metadata": {},
   "source": [
    "# Order ID"
   ]
  },
  {
   "cell_type": "code",
   "execution_count": 25,
   "metadata": {},
   "outputs": [],
   "source": [
    "order= driver.find_element_by_xpath('//*[@id=\"nav-orders\"]/span[2]')\n",
    "order.click()"
   ]
  },
  {
   "cell_type": "code",
   "execution_count": 26,
   "metadata": {},
   "outputs": [
    {
     "data": {
      "text/plain": [
       "<selenium.webdriver.remote.webelement.WebElement (session=\"7f9ff40d6c36f173b6f0dc1c7663f255\", element=\"fd440466-74ac-400e-aed8-252bef033564\")>"
      ]
     },
     "execution_count": 26,
     "metadata": {},
     "output_type": "execute_result"
    }
   ],
   "source": [
    "order"
   ]
  },
  {
   "cell_type": "code",
   "execution_count": 27,
   "metadata": {},
   "outputs": [
    {
     "data": {
      "text/plain": [
       "<selenium.webdriver.remote.webelement.WebElement (session=\"7f9ff40d6c36f173b6f0dc1c7663f255\", element=\"3920467c-b159-4750-8ec2-63a1949c4e31\")>"
      ]
     },
     "execution_count": 27,
     "metadata": {},
     "output_type": "execute_result"
    }
   ],
   "source": [
    "order1= driver.find_element_by_xpath('//*[@id=\"ordersContainer\"]/div[2]/div[1]/div/div/div/div[2]/div[1]/span[2]/bdi')\n",
    "order1"
   ]
  },
  {
   "cell_type": "code",
   "execution_count": 28,
   "metadata": {},
   "outputs": [
    {
     "name": "stdout",
     "output_type": "stream",
     "text": [
      "403-6233711-4740340\n"
     ]
    }
   ],
   "source": [
    "#order ID\n",
    "print(order1.text)"
   ]
  },
  {
   "cell_type": "markdown",
   "metadata": {},
   "source": [
    "# Order Date"
   ]
  },
  {
   "cell_type": "code",
   "execution_count": 29,
   "metadata": {},
   "outputs": [
    {
     "data": {
      "text/plain": [
       "<selenium.webdriver.remote.webelement.WebElement (session=\"7f9ff40d6c36f173b6f0dc1c7663f255\", element=\"5f51458e-ad52-468b-80d4-0e9925d130ae\")>"
      ]
     },
     "execution_count": 29,
     "metadata": {},
     "output_type": "execute_result"
    }
   ],
   "source": [
    "order2= driver.find_element_by_xpath('//*[@id=\"ordersContainer\"]/div[2]/div[1]/div/div/div/div[1]/div/div[1]/div[2]')\n",
    "order2"
   ]
  },
  {
   "cell_type": "code",
   "execution_count": 30,
   "metadata": {},
   "outputs": [
    {
     "name": "stdout",
     "output_type": "stream",
     "text": [
      "14 January 2021\n"
     ]
    }
   ],
   "source": [
    "#order date\n",
    "print(order2.text)"
   ]
  },
  {
   "cell_type": "markdown",
   "metadata": {},
   "source": [
    "# Product Name"
   ]
  },
  {
   "cell_type": "code",
   "execution_count": 31,
   "metadata": {},
   "outputs": [
    {
     "data": {
      "text/plain": [
       "<selenium.webdriver.remote.webelement.WebElement (session=\"7f9ff40d6c36f173b6f0dc1c7663f255\", element=\"150120e3-8fff-464e-bf16-113186b2fda6\")>"
      ]
     },
     "execution_count": 31,
     "metadata": {},
     "output_type": "execute_result"
    }
   ],
   "source": [
    "order3= driver.find_element_by_xpath('//*[@id=\"ordersContainer\"]/div[2]/div[2]/div/div[2]/div/div[1]/div/div/div/div[2]/div[1]/a')\n",
    "order3"
   ]
  },
  {
   "cell_type": "code",
   "execution_count": 32,
   "metadata": {},
   "outputs": [
    {
     "name": "stdout",
     "output_type": "stream",
     "text": [
      "Samsung Galaxy M01 Core (Black, 2GB RAM, 32GB Storage) with No Cost EMI/Additional Exchange Offers\n"
     ]
    }
   ],
   "source": [
    "#product name\n",
    "print(order3.text)"
   ]
  },
  {
   "cell_type": "markdown",
   "metadata": {},
   "source": [
    "# Seller Name"
   ]
  },
  {
   "cell_type": "code",
   "execution_count": 33,
   "metadata": {},
   "outputs": [
    {
     "data": {
      "text/plain": [
       "<selenium.webdriver.remote.webelement.WebElement (session=\"7f9ff40d6c36f173b6f0dc1c7663f255\", element=\"2043a994-08ad-4c4a-a90c-13a646c29e09\")>"
      ]
     },
     "execution_count": 33,
     "metadata": {},
     "output_type": "execute_result"
    }
   ],
   "source": [
    "order4= driver.find_element_by_xpath('//*[@id=\"ordersContainer\"]/div[2]/div[2]/div/div[2]/div/div[1]/div/div/div/div[2]/div[2]/span')\n",
    "order4"
   ]
  },
  {
   "cell_type": "code",
   "execution_count": 34,
   "metadata": {},
   "outputs": [
    {
     "name": "stdout",
     "output_type": "stream",
     "text": [
      "\n"
     ]
    }
   ],
   "source": [
    "#seller name\n",
    "print(order4.text)"
   ]
  },
  {
   "cell_type": "markdown",
   "metadata": {},
   "source": [
    "#  Price"
   ]
  },
  {
   "cell_type": "code",
   "execution_count": 35,
   "metadata": {},
   "outputs": [
    {
     "data": {
      "text/plain": [
       "<selenium.webdriver.remote.webelement.WebElement (session=\"7f9ff40d6c36f173b6f0dc1c7663f255\", element=\"9a10713d-8e91-414e-80bb-5494e61a69ec\")>"
      ]
     },
     "execution_count": 35,
     "metadata": {},
     "output_type": "execute_result"
    }
   ],
   "source": [
    "order5=driver.find_element_by_xpath('//*[@id=\"ordersContainer\"]/div[2]/div[1]/div/div/div/div[1]/div/div[2]/div[2]/span/span')\n",
    "order5"
   ]
  },
  {
   "cell_type": "code",
   "execution_count": 36,
   "metadata": {},
   "outputs": [
    {
     "name": "stdout",
     "output_type": "stream",
     "text": [
      "  5,999.00\n"
     ]
    }
   ],
   "source": [
    "#price\n",
    "print(order5.text)"
   ]
  },
  {
   "cell_type": "code",
   "execution_count": null,
   "metadata": {},
   "outputs": [],
   "source": []
  }
 ],
 "metadata": {
  "kernelspec": {
   "display_name": "Python 3",
   "language": "python",
   "name": "python3"
  },
  "language_info": {
   "codemirror_mode": {
    "name": "ipython",
    "version": 3
   },
   "file_extension": ".py",
   "mimetype": "text/x-python",
   "name": "python",
   "nbconvert_exporter": "python",
   "pygments_lexer": "ipython3",
   "version": "3.7.6"
  }
 },
 "nbformat": 4,
 "nbformat_minor": 4
}
