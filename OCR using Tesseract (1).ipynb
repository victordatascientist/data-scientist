{
 "cells": [
  {
   "cell_type": "code",
   "execution_count": 1,
   "metadata": {},
   "outputs": [
    {
     "name": "stdout",
     "output_type": "stream",
     "text": [
      "Collecting pytesseract\n",
      "  Downloading pytesseract-0.3.7.tar.gz (13 kB)\n",
      "Requirement already satisfied: Pillow in c:\\programdata\\anaconda3\\lib\\site-packages (from pytesseract) (7.0.0)\n",
      "Building wheels for collected packages: pytesseract\n",
      "  Building wheel for pytesseract (setup.py): started\n",
      "  Building wheel for pytesseract (setup.py): finished with status 'done'\n",
      "  Created wheel for pytesseract: filename=pytesseract-0.3.7-py2.py3-none-any.whl size=13947 sha256=7a1d0ab1c468a167bac75dada19d763380078f7ebc8aeb4c07e92f72da0e9908\n",
      "  Stored in directory: c:\\users\\admin\\appdata\\local\\pip\\cache\\wheels\\67\\71\\6c\\7a8c5ca2e699752506999ae7baeb692e2b4fc6488c2cddcb22\n",
      "Successfully built pytesseract\n",
      "Installing collected packages: pytesseract\n",
      "Successfully installed pytesseract-0.3.7\n",
      "Note: you may need to restart the kernel to use updated packages.\n"
     ]
    }
   ],
   "source": [
    "pip install pytesseract"
   ]
  },
  {
   "cell_type": "code",
   "execution_count": 1,
   "metadata": {},
   "outputs": [],
   "source": [
    "#load the library\n",
    "import cv2\n",
    "import numpy as np\n",
    "import pytesseract\n",
    "\n",
    "pytesseract.pytesseract.tesseract_cmd = r\"C:\\Program Files\\Tesseract-OCR\\tesseract.exe\""
   ]
  },
  {
   "cell_type": "code",
   "execution_count": 6,
   "metadata": {},
   "outputs": [
    {
     "name": "stdout",
     "output_type": "stream",
     "text": [
      "a @h SBIGeneral\n",
      "PRIVATE CAR/TWO WHEELER INSURANCE POLICY '\n",
      "\n",
      "fa yea WIT www sbigeneral inidownload ru ft\n",
      "Proposal Form\n",
      "\n",
      "The Ggrwn sited briew wt\n",
      "race Toa Wooster\n",
      "\n",
      " \n",
      "\n",
      "M you have exsing relshorshe at SH\n",
      "\n",
      "= DAAN VIKRAM KUMAR\n",
      "\n",
      "Cents NF Ate fore Teton Ouesten (216.0121 19.4.8 1234 96% $91 234 5\n",
      "two NK RAMVA Chok222@9 MAIL: Con weber F493 T4949 26 |\n",
      "cemutcntmememe § 1234 SOS Jol 2345698912345\n",
      "DOB of Proposer 20022020 pans (2 3TyIS (|Z\n",
      "ses mete eet EHS IL me [OF ge iu 4sé |\n",
      "ley SA wet CHA NODN I onl 4 3 (yi sé\n",
      "1 paces Bi V3 111 ~ INOLA\n",
      "\n",
      "    \n",
      "    \n",
      "   \n",
      " \n",
      " \n",
      "  \n",
      "     \n",
      "\n",
      " \n",
      "\n",
      "umes 4/2/1172 Wo LO bs | 2*\n",
      "omraticy (0) (2 teayeans (112 Poort | 12 3\n",
      "\n",
      "Egy we (2S 456) FRO |\n",
      "BIT 2e\n",
      "\n",
      " \n",
      "\n",
      " \n",
      "\n",
      "re Age Devers Doveg Emenee [ 112+ Panme ine [U| Gram [| patcsee 7 Be\n",
      "BBrHAK | MEANGAILOR [..\n",
      "fogre mente | Crases Mente i) co FeUaed\n",
      "i ed Se ae A\n",
      "a | Water Vitue Rs | Site Car Vator RS] [_] Cway| ) LPG Rs. Tal OV Ra\n",
      "\n",
      "| (two wheeler) _| (ect pred by manatactrrs) | ——\n",
      "oS o a) A+B+CsOrE oF)\n",
      "\n",
      " \n",
      "\n",
      " \n",
      "\n",
      " \n",
      "\f",
      "\n"
     ]
    }
   ],
   "source": [
    "#load the image(page1)\n",
    "img = cv2.imread(r\"C:\\Users\\admin\\Downloads\\1.jpg\")\n",
    "text = pytesseract.image_to_string(img)\n",
    "print(text)"
   ]
  },
  {
   "cell_type": "code",
   "execution_count": 7,
   "metadata": {},
   "outputs": [
    {
     "name": "stdout",
     "output_type": "stream",
     "text": [
      "  \n",
      "\n",
      "   \n",
      "\n",
      "  \n",
      "\n",
      "Prryocal Format\n",
      "\n",
      " \n",
      " \n",
      "  \n",
      "\n",
      "1 wart PRIVATE CAATTWO WHEELER PrSURANCE POUCY and reste itr\n",
      "(Choose yo: nce Repestory (For tose selecting ef omut\n",
      "[7 tesor ta wang xs [] COSe tsarance Rep Karvy insurance Repostory Ut\n",
      "\n",
      "Dhave ¢ owance Accout 4 te Nos [\n",
      "\n",
      "   \n",
      "\n",
      "   \n",
      "\n",
      "Cece (Mbeya SB General srace Company Lie”\n",
      "_—_ | ®m O2OL L620\n",
      "LAKHISAFAL\n",
      "(12345649 3/10\n",
      "\n",
      "mm borate sources aNd No premasTs Ms r/ wal be pant ext of proceeds of crime retated to ary of the offence bsted in Prevention of Morey Lardenng\n",
      "Gocumerts 0 estabh source of tats. The reurance Company has the nyt to cancel Be surance Contacte cast Lary havi bem tourd gay by 9\n",
      "he prevention of money Wunders Fr rca\n",
      "\n",
      "———————EE—————\n",
      "Socey Wad Parner, Verona O gwaiion Cooper Bived Section Corgan:\n",
      "\n",
      "Pe beat of mp 20 belie an nts dover\n",
      "ceeen bare area besten ue sed Sa ord\n",
      "\n",
      "iSYer-lalal-\\om env\n",
      "\f",
      "\n"
     ]
    }
   ],
   "source": [
    "#load the image(page2)\n",
    "img = cv2.imread(r\"C:\\Users\\admin\\Downloads\\vjpg.jpg\")\n",
    "text = pytesseract.image_to_string(img)\n",
    "print(text)"
   ]
  },
  {
   "cell_type": "code",
   "execution_count": null,
   "metadata": {},
   "outputs": [],
   "source": []
  }
 ],
 "metadata": {
  "kernelspec": {
   "display_name": "Python 3",
   "language": "python",
   "name": "python3"
  },
  "language_info": {
   "codemirror_mode": {
    "name": "ipython",
    "version": 3
   },
   "file_extension": ".py",
   "mimetype": "text/x-python",
   "name": "python",
   "nbconvert_exporter": "python",
   "pygments_lexer": "ipython3",
   "version": "3.7.6"
  }
 },
 "nbformat": 4,
 "nbformat_minor": 4
}
