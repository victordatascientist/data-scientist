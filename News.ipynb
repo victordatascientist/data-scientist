{
 "cells": [
  {
   "cell_type": "code",
   "execution_count": 2,
   "metadata": {},
   "outputs": [],
   "source": [
    "#imports here\n",
    "from selenium import webdriver\n",
    "from selenium.webdriver.common.keys import Keys\n",
    "from selenium.webdriver.support import expected_conditions as EC\n",
    "from selenium.webdriver.common.by import By\n",
    "from selenium.webdriver.support.wait import WebDriverWait"
   ]
  },
  {
   "cell_type": "code",
   "execution_count": 3,
   "metadata": {},
   "outputs": [],
   "source": [
    "driver = webdriver.Chrome(r\"C:\\Users\\Public\\Documents\\chromedriver.exe\")\n",
    "driver.get('https://southafricatoday.net/')"
   ]
  },
  {
   "cell_type": "code",
   "execution_count": 6,
   "metadata": {},
   "outputs": [],
   "source": [
    "#target the search input field\n",
    "searchbox = driver.find_element_by_xpath('//*[@id=\"td-header-search\"]')\n",
    "searchbox.clear()\n",
    "\n",
    "#search for the hashtag cat\n",
    "keyword = \"IPO\"\n",
    "searchbox.send_keys(keyword)\n",
    "searchbox.send_keys(Keys.ENTER)"
   ]
  },
  {
   "cell_type": "code",
   "execution_count": 7,
   "metadata": {},
   "outputs": [],
   "source": [
    "#search Xpath\n",
    "website = driver.find_element_by_xpath('//*[@id=\"td-outer-wrap\"]/div[2]/div/div[2]')\n",
    "website.click()"
   ]
  },
  {
   "cell_type": "code",
   "execution_count": 8,
   "metadata": {},
   "outputs": [
    {
     "data": {
      "text/plain": [
       "<selenium.webdriver.remote.webelement.WebElement (session=\"0cff2838745e88c3a0f8faff7bbe518b\", element=\"796cbb28-18d5-4dc6-bed9-6ba0579ef140\")>"
      ]
     },
     "execution_count": 8,
     "metadata": {},
     "output_type": "execute_result"
    }
   ],
   "source": [
    "website"
   ]
  },
  {
   "cell_type": "code",
   "execution_count": 9,
   "metadata": {},
   "outputs": [
    {
     "name": "stdout",
     "output_type": "stream",
     "text": [
      "IPO - search results\n",
      "If you're not happy with the results, please do another search\n",
      "Ahead of IPO, Stove Kraft Raises $25M From Goldman Sachs India, And Other Anchor...\n",
      "VolaNews - January 30, 2021\n",
      "0\n",
      "Stove Kraft Ltd, manufacturer of kitchen appliances, has raised a little over 185 crore from anchor investors ahead of its initial public offer, which will...\n",
      "Kuaishou IPO Could be Only Weeks Away\n",
      "VolaNews - January 25, 2021\n",
      "0\n",
      "The TikTok-like Kuaishou could be preparing to list on the Hong Kong Stock Exchange as early as Feb 5, people close to the deal...\n",
      "Nazara Technologies Becomes First Indian Gaming Firm To File IPO\n",
      "VolaNews - January 20, 2021\n",
      "0\n",
      "Nazara Technologies, firm backed by big bull Rakesh Jhunjhunwala, became the first Indian gaming technology company to seek a market debut. Mumbai-based mobile gaming company...\n",
      "Sequoia-Backed Chinese E-Cigarette Brand RLX Files for $100m US IPO\n",
      "VolaNews - January 12, 2021\n",
      "0\n",
      "RLX Technology, a Chinese e-cigarette brand backed by Sequoia Capital China, has filed with the US Securities and Exchange Commission (SEC) for an initial public...\n",
      "Gojek In Advanced Discussions With Tokopedia Over $18B Merger, IPO\n",
      "VolaNews - January 7, 2021\n",
      "0\n",
      "Indonesia’s ride-hailing and payments giant Gojek is in advanced discussions about merging with local e-commerce pioneer PT Tokopedia, ahead of a planned initial public offering...\n",
      "Indian Engineering Firm MTAR Tech to file for IPO\n",
      "VolaNews - December 16, 2020\n",
      "0\n",
      "MTAR Technologies, a Hyderabad-based precision engineering company, is planning to file its draft initial public offering (IPO) papers soon, said two people aware of the...\n",
      "India’s Zomato Set to Raise $146m in Final Funding Push Before IPO\n",
      "VolaNews - November 12, 2020\n",
      "0\n",
      "Food tech unicorn Zomato, which is gearing up for a public listing in the first-half of 2021, is set to raise a little over...\n",
      "Shanghai Exchange Suspends Ant Group’s A-Share IPO on STAR Market\n",
      "VolaNews - November 5, 2020\n",
      "0\n",
      "The Shanghai stock exchange has suspended Ant Group’s A-share IPO on its STAR Market, which was initially set for Thursday, the Chinese exchange said...\n",
      "China: New IPO System to Promote Reforms across The Entire A-Share Market\n",
      "VolaNews - November 4, 2020\n",
      "0\n",
      "Implementation of the registration-based initial public offering mechanism in the A-share market will help in the sustained development of the capital market, according to...\n",
      "Chinese Regulators Suspend Record £37bn Ant Group Hong Kong IPO Listing, Citing Concerns\n",
      "SAT World News - November 3, 2020\n",
      "0\n",
      "Chinese fintech giant Ant Group announced on Tuesday its initial public offering (IPO) listing on the Hong Kong exchange has been suspended due to...\n",
      "China Ready to Extend IPO Reform throughout Capital Market: Regulator\n",
      "VolaNews - October 25, 2020\n",
      "0\n",
      "China stands ready to extend the reform of registration-based initial public offerings (IPOs) system to all parts of its capital markets, a senior official...\n",
      "Indonesian GFC-Backed Klikdaily Plans to Launch IPO in 3 Years\n",
      "VolaNews - October 22, 2020\n",
      "0\n",
      "Klikdaily, an FMCG supply chain startup in Indonesia, is planning to launch an initial public offering (IPO) in the next three years, its Founder...\n",
      "1\n",
      "2\n",
      "3\n",
      "...\n",
      "42\n",
      "Page 1 of 42\n",
      "First Name *\n",
      "Last Name\n",
      "Email *\n",
      "Lists\n",
      "Summary of top News Articles\n",
      "This site is protected by reCAPTCHA and the Google Privacy Policy and Terms of Service apply.\n"
     ]
    }
   ],
   "source": [
    "#Output of News headline\n",
    "print(website.text)"
   ]
  },
  {
   "cell_type": "code",
   "execution_count": 10,
   "metadata": {},
   "outputs": [],
   "source": [
    "website1 = driver.current_url"
   ]
  },
  {
   "cell_type": "code",
   "execution_count": 11,
   "metadata": {},
   "outputs": [
    {
     "data": {
      "text/plain": [
       "'https://southafricatoday.net/?s=IPO'"
      ]
     },
     "execution_count": 11,
     "metadata": {},
     "output_type": "execute_result"
    }
   ],
   "source": [
    "#news links\n",
    "website1"
   ]
  },
  {
   "cell_type": "code",
   "execution_count": 12,
   "metadata": {},
   "outputs": [],
   "source": [
    "#save into CSV file\n",
    "import pandas as pd\n",
    "# Creating dataframe \n",
    "df = pd.DataFrame(columns = [\"News heading\",\"Links\"])\n",
    "index = len(df)\n",
    "df.loc[index] = [website.text,website1]\n",
    "df.to_csv('News.csv')"
   ]
  },
  {
   "cell_type": "code",
   "execution_count": null,
   "metadata": {},
   "outputs": [],
   "source": []
  }
 ],
 "metadata": {
  "kernelspec": {
   "display_name": "Python 3",
   "language": "python",
   "name": "python3"
  },
  "language_info": {
   "codemirror_mode": {
    "name": "ipython",
    "version": 3
   },
   "file_extension": ".py",
   "mimetype": "text/x-python",
   "name": "python",
   "nbconvert_exporter": "python",
   "pygments_lexer": "ipython3",
   "version": "3.7.6"
  }
 },
 "nbformat": 4,
 "nbformat_minor": 4
}
