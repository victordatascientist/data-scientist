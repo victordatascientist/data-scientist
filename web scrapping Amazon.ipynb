{
 "cells": [
  {
   "cell_type": "markdown",
   "metadata": {},
   "source": [
    "# load library"
   ]
  },
  {
   "cell_type": "code",
   "execution_count": 4,
   "metadata": {},
   "outputs": [],
   "source": [
    "#loading library and link\n",
    "from selenium import webdriver\n",
    "from selenium.webdriver.common.keys import Keys\n",
    "driver = webdriver.Chrome(r\"C:\\Users\\Public\\Documents\\chromedriver.exe\")\n",
    "driver.get('https://www.amazon.in')"
   ]
  },
  {
   "cell_type": "markdown",
   "metadata": {},
   "source": [
    "# login details"
   ]
  },
  {
   "cell_type": "code",
   "execution_count": 5,
   "metadata": {},
   "outputs": [],
   "source": [
    "#give the login details\n",
    "login= driver.find_element_by_id('nav-link-accountList')\n",
    "login.click()"
   ]
  },
  {
   "cell_type": "code",
   "execution_count": 6,
   "metadata": {},
   "outputs": [],
   "source": [
    "#give your email\n",
    "email= driver.find_element_by_id('ap_email')\n",
    "email.send_keys('your emailID')\n",
    "email.send_keys(Keys.RETURN)"
   ]
  },
  {
   "cell_type": "code",
   "execution_count": 7,
   "metadata": {},
   "outputs": [],
   "source": [
    "#give your password\n",
    "pwd= driver.find_element_by_id('ap_password')\n",
    "pwd.send_keys('your password')\n",
    "pwd.send_keys(Keys.RETURN)"
   ]
  },
  {
   "cell_type": "markdown",
   "metadata": {},
   "source": [
    "# Extract the order summary from Amazon"
   ]
  },
  {
   "cell_type": "markdown",
   "metadata": {},
   "source": [
    "# Order ID"
   ]
  },
  {
   "cell_type": "code",
   "execution_count": 8,
   "metadata": {},
   "outputs": [],
   "source": [
    "order= driver.find_element_by_xpath('//*[@id=\"nav-orders\"]/span[2]')\n",
    "order.click()"
   ]
  },
  {
   "cell_type": "code",
   "execution_count": 9,
   "metadata": {},
   "outputs": [
    {
     "data": {
      "text/plain": [
       "<selenium.webdriver.remote.webelement.WebElement (session=\"a9583c1c43a48e7ecdd668449c688a6e\", element=\"51324092-e5df-494a-8402-9cce48c93992\")>"
      ]
     },
     "execution_count": 9,
     "metadata": {},
     "output_type": "execute_result"
    }
   ],
   "source": [
    "order"
   ]
  },
  {
   "cell_type": "code",
   "execution_count": 10,
   "metadata": {},
   "outputs": [
    {
     "data": {
      "text/plain": [
       "<selenium.webdriver.remote.webelement.WebElement (session=\"a9583c1c43a48e7ecdd668449c688a6e\", element=\"ff44dd7d-4c84-409a-83c0-19a8756bde19\")>"
      ]
     },
     "execution_count": 10,
     "metadata": {},
     "output_type": "execute_result"
    }
   ],
   "source": [
    "order1= driver.find_element_by_xpath('//*[@id=\"ordersContainer\"]/div[2]/div[1]/div/div/div/div[2]/div[1]/span[2]/bdi')\n",
    "order1"
   ]
  },
  {
   "cell_type": "code",
   "execution_count": 11,
   "metadata": {},
   "outputs": [
    {
     "name": "stdout",
     "output_type": "stream",
     "text": [
      "403-6233711-4740340\n"
     ]
    }
   ],
   "source": [
    "#order ID\n",
    "print(order1.text)"
   ]
  },
  {
   "cell_type": "markdown",
   "metadata": {},
   "source": [
    "# Order Date"
   ]
  },
  {
   "cell_type": "code",
   "execution_count": 12,
   "metadata": {},
   "outputs": [
    {
     "data": {
      "text/plain": [
       "<selenium.webdriver.remote.webelement.WebElement (session=\"a9583c1c43a48e7ecdd668449c688a6e\", element=\"647c8530-8fec-451b-8ecd-ab5dbeb4acbb\")>"
      ]
     },
     "execution_count": 12,
     "metadata": {},
     "output_type": "execute_result"
    }
   ],
   "source": [
    "order2= driver.find_element_by_xpath('//*[@id=\"ordersContainer\"]/div[2]/div[1]/div/div/div/div[1]/div/div[1]/div[2]')\n",
    "order2"
   ]
  },
  {
   "cell_type": "code",
   "execution_count": 13,
   "metadata": {},
   "outputs": [
    {
     "name": "stdout",
     "output_type": "stream",
     "text": [
      "14 January 2021\n"
     ]
    }
   ],
   "source": [
    "#order date\n",
    "print(order2.text)"
   ]
  },
  {
   "cell_type": "markdown",
   "metadata": {},
   "source": [
    "# Product Name"
   ]
  },
  {
   "cell_type": "code",
   "execution_count": 14,
   "metadata": {},
   "outputs": [
    {
     "data": {
      "text/plain": [
       "<selenium.webdriver.remote.webelement.WebElement (session=\"a9583c1c43a48e7ecdd668449c688a6e\", element=\"f227e752-5b84-4ffc-951b-852f2dae1266\")>"
      ]
     },
     "execution_count": 14,
     "metadata": {},
     "output_type": "execute_result"
    }
   ],
   "source": [
    "order3= driver.find_element_by_xpath('//*[@id=\"ordersContainer\"]/div[2]/div[2]/div/div[2]/div/div[1]/div/div/div/div[2]/div[1]/a')\n",
    "order3"
   ]
  },
  {
   "cell_type": "code",
   "execution_count": 15,
   "metadata": {},
   "outputs": [
    {
     "name": "stdout",
     "output_type": "stream",
     "text": [
      "Samsung Galaxy M01 Core (Black, 2GB RAM, 32GB Storage) with No Cost EMI/Additional Exchange Offers\n"
     ]
    }
   ],
   "source": [
    "#product name\n",
    "print(order3.text)"
   ]
  },
  {
   "cell_type": "markdown",
   "metadata": {},
   "source": [
    "# Seller Name"
   ]
  },
  {
   "cell_type": "code",
   "execution_count": 16,
   "metadata": {},
   "outputs": [
    {
     "data": {
      "text/plain": [
       "<selenium.webdriver.remote.webelement.WebElement (session=\"a9583c1c43a48e7ecdd668449c688a6e\", element=\"07991906-c7f6-4e06-b296-8c2932c99947\")>"
      ]
     },
     "execution_count": 16,
     "metadata": {},
     "output_type": "execute_result"
    }
   ],
   "source": [
    "order4= driver.find_element_by_xpath('//*[@id=\"ordersContainer\"]/div[2]/div[2]/div/div[2]/div/div[1]/div/div/div/div[2]/div[2]/span')\n",
    "order4"
   ]
  },
  {
   "cell_type": "code",
   "execution_count": 17,
   "metadata": {},
   "outputs": [
    {
     "name": "stdout",
     "output_type": "stream",
     "text": [
      "Sold by: STPL Exclusive Online\n"
     ]
    }
   ],
   "source": [
    "#seller name\n",
    "print(order4.text)"
   ]
  },
  {
   "cell_type": "markdown",
   "metadata": {},
   "source": [
    "#  Price"
   ]
  },
  {
   "cell_type": "code",
   "execution_count": 18,
   "metadata": {},
   "outputs": [
    {
     "data": {
      "text/plain": [
       "<selenium.webdriver.remote.webelement.WebElement (session=\"a9583c1c43a48e7ecdd668449c688a6e\", element=\"86eb9daf-c7a7-423a-a517-095e0a14ef4b\")>"
      ]
     },
     "execution_count": 18,
     "metadata": {},
     "output_type": "execute_result"
    }
   ],
   "source": [
    "order5=driver.find_element_by_xpath('//*[@id=\"ordersContainer\"]/div[2]/div[1]/div/div/div/div[1]/div/div[2]/div[2]/span/span')\n",
    "order5"
   ]
  },
  {
   "cell_type": "code",
   "execution_count": 19,
   "metadata": {},
   "outputs": [
    {
     "name": "stdout",
     "output_type": "stream",
     "text": [
      "  5,999.00\n"
     ]
    }
   ],
   "source": [
    "#price\n",
    "print(order5.text)"
   ]
  },
  {
   "cell_type": "code",
   "execution_count": null,
   "metadata": {},
   "outputs": [],
   "source": []
  }
 ],
 "metadata": {
  "kernelspec": {
   "display_name": "Python 3",
   "language": "python",
   "name": "python3"
  },
  "language_info": {
   "codemirror_mode": {
    "name": "ipython",
    "version": 3
   },
   "file_extension": ".py",
   "mimetype": "text/x-python",
   "name": "python",
   "nbconvert_exporter": "python",
   "pygments_lexer": "ipython3",
   "version": "3.7.6"
  }
 },
 "nbformat": 4,
 "nbformat_minor": 4
}
